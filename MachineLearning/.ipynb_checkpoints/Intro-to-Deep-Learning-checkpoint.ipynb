{
 "cells": [
  {
   "cell_type": "markdown",
   "metadata": {},
   "source": [
    "# Linear Regression demo\n",
    "\n",
    "> https://github.com/llSourcell/linear_regression_demo\n",
    "\n"
   ]
  },
  {
   "cell_type": "code",
   "execution_count": 3,
   "metadata": {},
   "outputs": [],
   "source": [
    "import pandas as pd\n",
    "from sklearn import linear_model\n",
    "import matplotlib.pyplot as plt"
   ]
  },
  {
   "cell_type": "code",
   "execution_count": 5,
   "metadata": {},
   "outputs": [
    {
     "name": "stdout",
     "output_type": "stream",
     "text": [
      "       Brain     Body\n",
      "0      3.385    44.50\n",
      "1      0.480    15.50\n",
      "2      1.350     8.10\n",
      "3    465.000   423.00\n",
      "4     36.330   119.50\n",
      "5     27.660   115.00\n",
      "6     14.830    98.20\n",
      "7      1.040     5.50\n",
      "8      4.190    58.00\n",
      "9      0.425     6.40\n",
      "10     0.101     4.00\n",
      "11     0.920     5.70\n",
      "12     1.000     6.60\n",
      "13     0.005     0.14\n",
      "14     0.060     1.00\n",
      "15     3.500    10.80\n",
      "16     2.000    12.30\n",
      "17     1.700     6.30\n",
      "18  2547.000  4603.00\n",
      "19     0.023     0.30\n",
      "20   187.100   419.00\n",
      "21   521.000   655.00\n",
      "22     0.785     3.50\n",
      "23    10.000   115.00\n",
      "24     3.300    25.60\n",
      "25     0.200     5.00\n",
      "26     1.410    17.50\n",
      "27   529.000   680.00\n",
      "28   207.000   406.00\n",
      "29    85.000   325.00\n",
      "..       ...      ...\n",
      "33     3.500     3.90\n",
      "34     6.800   179.00\n",
      "35    35.000    56.00\n",
      "36     4.050    17.00\n",
      "37     0.120     1.00\n",
      "38     0.023     0.40\n",
      "39     0.010     0.25\n",
      "40     1.400    12.50\n",
      "41   250.000   490.00\n",
      "42     2.500    12.10\n",
      "43    55.500   175.00\n",
      "44   100.000   157.00\n",
      "45    52.160   440.00\n",
      "46    10.550   179.50\n",
      "47     0.550     2.40\n",
      "48    60.000    81.00\n",
      "49     3.600    21.00\n",
      "50     4.288    39.20\n",
      "51     0.280     1.90\n",
      "52     0.075     1.20\n",
      "53     0.122     3.00\n",
      "54     0.048     0.33\n",
      "55   192.000   180.00\n",
      "56     3.000    25.00\n",
      "57   160.000   169.00\n",
      "58     0.900     2.60\n",
      "59     1.620    11.40\n",
      "60     0.104     2.50\n",
      "61     4.235    50.40\n",
      "62       NaN      NaN\n",
      "\n",
      "[63 rows x 2 columns]\n"
     ]
    }
   ],
   "source": [
    "# read data\n",
    "dataframe = pd.read_fwf('brain_body.txt')\n",
    "print(dataframe)"
   ]
  },
  {
   "cell_type": "code",
   "execution_count": 6,
   "metadata": {},
   "outputs": [
    {
     "name": "stdout",
     "output_type": "stream",
     "text": [
      "       Brain\n",
      "0      3.385\n",
      "1      0.480\n",
      "2      1.350\n",
      "3    465.000\n",
      "4     36.330\n",
      "5     27.660\n",
      "6     14.830\n",
      "7      1.040\n",
      "8      4.190\n",
      "9      0.425\n",
      "10     0.101\n",
      "11     0.920\n",
      "12     1.000\n",
      "13     0.005\n",
      "14     0.060\n",
      "15     3.500\n",
      "16     2.000\n",
      "17     1.700\n",
      "18  2547.000\n",
      "19     0.023\n",
      "20   187.100\n",
      "21   521.000\n",
      "22     0.785\n",
      "23    10.000\n",
      "24     3.300\n",
      "25     0.200\n",
      "26     1.410\n",
      "27   529.000\n",
      "28   207.000\n",
      "29    85.000\n",
      "..       ...\n",
      "33     3.500\n",
      "34     6.800\n",
      "35    35.000\n",
      "36     4.050\n",
      "37     0.120\n",
      "38     0.023\n",
      "39     0.010\n",
      "40     1.400\n",
      "41   250.000\n",
      "42     2.500\n",
      "43    55.500\n",
      "44   100.000\n",
      "45    52.160\n",
      "46    10.550\n",
      "47     0.550\n",
      "48    60.000\n",
      "49     3.600\n",
      "50     4.288\n",
      "51     0.280\n",
      "52     0.075\n",
      "53     0.122\n",
      "54     0.048\n",
      "55   192.000\n",
      "56     3.000\n",
      "57   160.000\n",
      "58     0.900\n",
      "59     1.620\n",
      "60     0.104\n",
      "61     4.235\n",
      "62       NaN\n",
      "\n",
      "[63 rows x 1 columns]\n"
     ]
    }
   ],
   "source": [
    "x_values = dataframe[['Brain']]\n",
    "y_values = dataframe[['Body']]\n",
    "\n",
    "print(x_values)"
   ]
  },
  {
   "cell_type": "code",
   "execution_count": null,
   "metadata": {},
   "outputs": [],
   "source": []
  }
 ],
 "metadata": {
  "kernelspec": {
   "display_name": "Python 3",
   "language": "python",
   "name": "python3"
  },
  "language_info": {
   "codemirror_mode": {
    "name": "ipython",
    "version": 3
   },
   "file_extension": ".py",
   "mimetype": "text/x-python",
   "name": "python",
   "nbconvert_exporter": "python",
   "pygments_lexer": "ipython3",
   "version": "3.6.7"
  }
 },
 "nbformat": 4,
 "nbformat_minor": 2
}
