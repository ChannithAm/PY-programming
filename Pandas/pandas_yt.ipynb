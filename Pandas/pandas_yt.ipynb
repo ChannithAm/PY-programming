{
 "cells": [
  {
   "cell_type": "markdown",
   "metadata": {},
   "source": [
    "# Data Analysis with Python 3 and Pandas\n",
    "\n",
    "> https://www.youtube.com/playlist?list=PLQVvvaa0QuDc-3szzjeP6N6b0aDrrKyL-"
   ]
  },
  {
   "cell_type": "code",
   "execution_count": 2,
   "metadata": {},
   "outputs": [
    {
     "name": "stdout",
     "output_type": "stream",
     "text": [
      "                 High        Low       Open      Close      Volume  Adj Close\n",
      "Date                                                                         \n",
      "2009-12-31  68.860001  68.110001  68.839996  68.190002  18852300.0  51.152096\n",
      "2010-01-04  69.260002  68.190002  68.720001  69.150002  27809100.0  51.872231\n",
      "2010-01-05  69.449997  68.800003  69.190002  69.419998  30174700.0  52.074772\n",
      "2010-01-06  70.599998  69.339996  69.449997  70.019997  35044700.0  52.524845\n",
      "2010-01-07  70.059998  69.419998  69.900002  69.800003  27192100.0  52.359821\n"
     ]
    },
    {
     "data": {
      "image/png": "[encoded data removed]",
      "text/plain": [
       "<Figure size 432x288 with 1 Axes>"
      ]
     },
     "metadata": {},
     "output_type": "display_data"
    }
   ],
   "source": [
    "import pandas as pd\n",
    "import datetime\n",
    "import pandas_datareader.data as web\n",
    "import matplotlib.pyplot as plt\n",
    "from matplotlib import style\n",
    "%matplotlib inline\n",
    "style.use('ggplot')\n",
    "\n",
    "start = datetime.datetime(2010, 1, 1)\n",
    "end = datetime.datetime(2019, 1, 1)\n",
    "\n",
    "df = web.DataReader(\"XOM\", \"yahoo\", start, end)\n",
    "\n",
    "print(df.head())\n",
    "\n",
    "df['Adj Close'].plot()\n",
    "plt.show()"
   ]
  },
  {
   "cell_type": "code",
   "execution_count": 18,
   "metadata": {},
   "outputs": [
    {
     "name": "stdout",
     "output_type": "stream",
     "text": [
      "   Day  Visitors  Bounce Rate\n",
      "0    1        43           65\n",
      "1    2        53           72\n",
      "2    3        34           62\n",
      "3    4        45           64\n",
      "4    5        64           54\n",
      "5    6        34           66\n",
      "---------------------------------------------------\n",
      "   Day  Visitors  Bounce Rate\n",
      "0    1        43           65\n",
      "1    2        53           72\n",
      "2    3        34           62\n",
      "3    4        45           64\n",
      "4    5        64           54\n",
      "---------------------------------------------------\n",
      "   Day  Visitors  Bounce Rate\n",
      "1    2        53           72\n",
      "2    3        34           62\n",
      "3    4        45           64\n",
      "4    5        64           54\n",
      "5    6        34           66\n",
      "---------------------------------------------------\n",
      "   Day  Visitors  Bounce Rate\n",
      "4    5        64           54\n",
      "5    6        34           66\n",
      "---------------------------------------------------\n",
      "     Visitors  Bounce Rate\n",
      "Day                       \n",
      "1          43           65\n",
      "2          53           72\n",
      "3          34           62\n",
      "4          45           64\n",
      "5          64           54\n",
      "6          34           66\n",
      "---------------------------------------------------\n",
      "   Day  Visitors  Bounce Rate\n",
      "0    1        43           65\n",
      "1    2        53           72\n",
      "2    3        34           62\n",
      "3    4        45           64\n",
      "4    5        64           54\n",
      "---------------------------------------------------\n",
      "     Visitors  Bounce Rate\n",
      "Day                       \n",
      "1          43           65\n",
      "2          53           72\n",
      "3          34           62\n",
      "4          45           64\n",
      "5          64           54\n",
      "---------------------------------------------------\n",
      "     Visitors  Bounce Rate\n",
      "Day                       \n",
      "1          43           65\n",
      "2          53           72\n",
      "3          34           62\n",
      "4          45           64\n",
      "5          64           54\n"
     ]
    }
   ],
   "source": [
    "import pandas as pd\n",
    "import matplotlib.pyplot as plt\n",
    "from matplotlib import style\n",
    "style.use('ggplot')\n",
    "\n",
    "web_stats = {'Day': [1,2,3,4,5,6],\n",
    "        'Visitors':[43,53,34,45,64,34],\n",
    "        'Bounce Rate':[65,72,62,64,54,66]}\n",
    "\n",
    "df = pd.DataFrame(web_stats)\n",
    "\n",
    "\n",
    "print(df)\n",
    "print(\"---------------------------------------------------\")\n",
    "print(df.head())\n",
    "print(\"---------------------------------------------------\")\n",
    "print(df.tail())\n",
    "print(\"---------------------------------------------------\")\n",
    "print(df.tail(2))\n",
    "print(\"---------------------------------------------------\")\n",
    "print(df.set_index('Day'))\n",
    "print(\"---------------------------------------------------\")\n",
    "print(df.head())\n",
    "print(\"---------------------------------------------------\")\n",
    "df2 = df.set_index('Day')\n",
    "print(df2.head())\n",
    "print(\"---------------------------------------------------\")\n",
    "df.set_index('Day', inplace=True)\n",
    "print(df.head())"
   ]
  },
  {
   "cell_type": "code",
   "execution_count": 19,
   "metadata": {},
   "outputs": [
    {
     "name": "stdout",
     "output_type": "stream",
     "text": [
      "Day\n",
      "1    43\n",
      "2    53\n",
      "3    34\n",
      "4    45\n",
      "5    64\n",
      "6    34\n",
      "Name: Visitors, dtype: int64\n"
     ]
    }
   ],
   "source": [
    "print(df['Visitors'])"
   ]
  },
  {
   "cell_type": "code",
   "execution_count": 20,
   "metadata": {},
   "outputs": [
    {
     "name": "stdout",
     "output_type": "stream",
     "text": [
      "Day\n",
      "1    43\n",
      "2    53\n",
      "3    34\n",
      "4    45\n",
      "5    64\n",
      "6    34\n",
      "Name: Visitors, dtype: int64\n"
     ]
    }
   ],
   "source": [
    "print(df.Visitors)"
   ]
  },
  {
   "cell_type": "code",
   "execution_count": 21,
   "metadata": {},
   "outputs": [
    {
     "name": "stdout",
     "output_type": "stream",
     "text": [
      "Day\n",
      "1    65\n",
      "2    72\n",
      "3    62\n",
      "4    64\n",
      "5    54\n",
      "6    66\n",
      "Name: Bounce Rate, dtype: int64\n"
     ]
    }
   ],
   "source": [
    "print(df['Bounce Rate'])"
   ]
  },
  {
   "cell_type": "code",
   "execution_count": 22,
   "metadata": {},
   "outputs": [
    {
     "name": "stdout",
     "output_type": "stream",
     "text": [
      "     Bounce Rate  Visitors\n",
      "Day                       \n",
      "1             65        43\n",
      "2             72        53\n",
      "3             62        34\n",
      "4             64        45\n",
      "5             54        64\n",
      "6             66        34\n"
     ]
    }
   ],
   "source": [
    "print(df[['Bounce Rate','Visitors']])"
   ]
  },
  {
   "cell_type": "code",
   "execution_count": 23,
   "metadata": {},
   "outputs": [
    {
     "name": "stdout",
     "output_type": "stream",
     "text": [
      "[43, 53, 34, 45, 64, 34]\n"
     ]
    }
   ],
   "source": [
    "print(df.Visitors.tolist())"
   ]
  },
  {
   "cell_type": "code",
   "execution_count": 24,
   "metadata": {},
   "outputs": [
    {
     "name": "stdout",
     "output_type": "stream",
     "text": [
      "[[65 43]\n",
      " [72 53]\n",
      " [62 34]\n",
      " [64 45]\n",
      " [54 64]\n",
      " [66 34]]\n"
     ]
    }
   ],
   "source": [
    "import numpy as np\n",
    "print(np.array(df[['Bounce Rate','Visitors']]))"
   ]
  },
  {
   "cell_type": "code",
   "execution_count": 26,
   "metadata": {},
   "outputs": [
    {
     "name": "stdout",
     "output_type": "stream",
     "text": [
      "    0   1\n",
      "0  65  43\n",
      "1  72  53\n",
      "2  62  34\n",
      "3  64  45\n",
      "4  54  64\n",
      "5  66  34\n"
     ]
    }
   ],
   "source": [
    "df3 = pd.DataFrame(np.array(df[['Bounce Rate','Visitors']]))\n",
    "print(df3)"
   ]
  },
  {
   "cell_type": "code",
   "execution_count": 45,
   "metadata": {},
   "outputs": [
    {
     "name": "stdout",
     "output_type": "stream",
     "text": [
      "   Trade Date  Index Value     High      Low  Total Market Value  \\\n",
      "0  2019-03-08      2047.08  2047.08  2047.08        2.990327e+10   \n",
      "1  2019-03-07      2057.74  2057.74  2057.74        3.005897e+10   \n",
      "2  2019-03-06      2088.38  2088.38  2088.38        3.050665e+10   \n",
      "3  2019-03-05      2109.09  2109.09  2109.09        3.080906e+10   \n",
      "4  2019-03-04      2107.78  2107.78  2107.78        3.078996e+10   \n",
      "\n",
      "   Dividend Market Value  \n",
      "0             16963142.0  \n",
      "1                    0.0  \n",
      "2                    0.0  \n",
      "3              1892765.0  \n",
      "4                    0.0  \n"
     ]
    }
   ],
   "source": [
    "import pandas as pd\n",
    "df = pd.read_csv('data.csv')\n",
    "\n",
    "print(df.head())\n",
    "\n",
    "df.set_index('Trade Date', inplace=True)\n",
    "df.to_csv('new_csv.csv')"
   ]
  },
  {
   "cell_type": "code",
   "execution_count": 46,
   "metadata": {},
   "outputs": [],
   "source": [
    "df = pd.read_csv('new_csv.csv')"
   ]
  },
  {
   "cell_type": "code",
   "execution_count": 48,
   "metadata": {},
   "outputs": [
    {
     "name": "stdout",
     "output_type": "stream",
     "text": [
      "   Trade Date  Index Value     High      Low  Total Market Value  \\\n",
      "0  2019-03-08      2047.08  2047.08  2047.08        2.990327e+10   \n",
      "1  2019-03-07      2057.74  2057.74  2057.74        3.005897e+10   \n",
      "2  2019-03-06      2088.38  2088.38  2088.38        3.050665e+10   \n",
      "3  2019-03-05      2109.09  2109.09  2109.09        3.080906e+10   \n",
      "4  2019-03-04      2107.78  2107.78  2107.78        3.078996e+10   \n",
      "\n",
      "   Dividend Market Value  \n",
      "0             16963142.0  \n",
      "1                    0.0  \n",
      "2                    0.0  \n",
      "3              1892765.0  \n",
      "4                    0.0  \n"
     ]
    }
   ],
   "source": [
    "print(df.head())"
   ]
  },
  {
   "cell_type": "code",
   "execution_count": 49,
   "metadata": {},
   "outputs": [
    {
     "name": "stdout",
     "output_type": "stream",
     "text": [
      "            Index Value     High      Low  Total Market Value  \\\n",
      "Trade Date                                                      \n",
      "2019-03-08      2047.08  2047.08  2047.08        2.990327e+10   \n",
      "2019-03-07      2057.74  2057.74  2057.74        3.005897e+10   \n",
      "2019-03-06      2088.38  2088.38  2088.38        3.050665e+10   \n",
      "2019-03-05      2109.09  2109.09  2109.09        3.080906e+10   \n",
      "2019-03-04      2107.78  2107.78  2107.78        3.078996e+10   \n",
      "\n",
      "            Dividend Market Value  \n",
      "Trade Date                         \n",
      "2019-03-08             16963142.0  \n",
      "2019-03-07                    0.0  \n",
      "2019-03-06                    0.0  \n",
      "2019-03-05              1892765.0  \n",
      "2019-03-04                    0.0  \n"
     ]
    }
   ],
   "source": [
    "df = pd.read_csv('new_csv.csv', index_col=0)\n",
    "print(df.head())"
   ]
  },
  {
   "cell_type": "code",
   "execution_count": 52,
   "metadata": {},
   "outputs": [
    {
     "name": "stdout",
     "output_type": "stream",
     "text": [
      "            Index_Value     High      Low  Total_Market_Value  \\\n",
      "Trade Date                                                      \n",
      "2019-03-08      2047.08  2047.08  2047.08        2.990327e+10   \n",
      "2019-03-07      2057.74  2057.74  2057.74        3.005897e+10   \n",
      "2019-03-06      2088.38  2088.38  2088.38        3.050665e+10   \n",
      "2019-03-05      2109.09  2109.09  2109.09        3.080906e+10   \n",
      "2019-03-04      2107.78  2107.78  2107.78        3.078996e+10   \n",
      "\n",
      "            Dividend_Market_Value  \n",
      "Trade Date                         \n",
      "2019-03-08             16963142.0  \n",
      "2019-03-07                    0.0  \n",
      "2019-03-06                    0.0  \n",
      "2019-03-05              1892765.0  \n",
      "2019-03-04                    0.0  \n"
     ]
    }
   ],
   "source": [
    "df.columns = ['Index_Value','High','Low', 'Total_Market_Value', 'Dividend_Market_Value']\n",
    "print(df.head())"
   ]
  },
  {
   "cell_type": "code",
   "execution_count": 53,
   "metadata": {},
   "outputs": [],
   "source": [
    "df.to_csv('new_csv3.csv')"
   ]
  },
  {
   "cell_type": "code",
   "execution_count": 54,
   "metadata": {},
   "outputs": [],
   "source": [
    "df.to_csv('new_csv4.csv', header=False)"
   ]
  },
  {
   "cell_type": "code",
   "execution_count": 60,
   "metadata": {},
   "outputs": [
    {
     "name": "stdout",
     "output_type": "stream",
     "text": [
      "            Index_Value     High      Low   Total_Value  Dividend_Value\n",
      "2019-03-08      2047.08  2047.08  2047.08  2.990327e+10      16963142.0\n",
      "2019-03-07      2057.74  2057.74  2057.74  3.005897e+10             0.0\n",
      "2019-03-06      2088.38  2088.38  2088.38  3.050665e+10             0.0\n",
      "2019-03-05      2109.09  2109.09  2109.09  3.080906e+10       1892765.0\n",
      "2019-03-04      2107.78  2107.78  2107.78  3.078996e+10             0.0\n"
     ]
    }
   ],
   "source": [
    "df = pd.read_csv('new_csv4.csv', names=['Index_Value', 'High', 'Low', 'Total_Value', 'Dividend_Value'], index_col=0)\n",
    "print(df.head())"
   ]
  },
  {
   "cell_type": "code",
   "execution_count": 61,
   "metadata": {},
   "outputs": [],
   "source": [
    "df.to_html('example.html')"
   ]
  },
  {
   "cell_type": "code",
   "execution_count": 62,
   "metadata": {},
   "outputs": [
    {
     "name": "stdout",
     "output_type": "stream",
     "text": [
      "            Index_Value     High      Low   Total_Value  Dividend_Value\n",
      "2019-03-08      2047.08  2047.08  2047.08  2.990327e+10      16963142.0\n",
      "2019-03-07      2057.74  2057.74  2057.74  3.005897e+10             0.0\n",
      "2019-03-06      2088.38  2088.38  2088.38  3.050665e+10             0.0\n",
      "2019-03-05      2109.09  2109.09  2109.09  3.080906e+10       1892765.0\n",
      "2019-03-04      2107.78  2107.78  2107.78  3.078996e+10             0.0\n"
     ]
    }
   ],
   "source": [
    "df = pd.read_csv('new_csv4.csv', names=['Index_Value', 'High', 'Low', 'Total_Value', 'Dividend_Value'])\n",
    "print(df.head())"
   ]
  },
  {
   "cell_type": "code",
   "execution_count": 67,
   "metadata": {},
   "outputs": [
    {
     "name": "stdout",
     "output_type": "stream",
     "text": [
      "            Index_Value  High-00      Low   Total_Value  Dividend_Value\n",
      "2019-03-08      2047.08  2047.08  2047.08  2.990327e+10      16963142.0\n",
      "2019-03-07      2057.74  2057.74  2057.74  3.005897e+10             0.0\n",
      "2019-03-06      2088.38  2088.38  2088.38  3.050665e+10             0.0\n",
      "2019-03-05      2109.09  2109.09  2109.09  3.080906e+10       1892765.0\n",
      "2019-03-04      2107.78  2107.78  2107.78  3.078996e+10             0.0\n"
     ]
    }
   ],
   "source": [
    "df.rename(columns={'High':'High-00'}, inplace=True)\n",
    "print(df.head())"
   ]
  },
  {
   "cell_type": "code",
   "execution_count": 68,
   "metadata": {},
   "outputs": [],
   "source": [
    "#Building dataset - p.4 Data Analysis with Python and Pandas Tutorial"
   ]
  },
  {
   "cell_type": "code",
   "execution_count": null,
   "metadata": {},
   "outputs": [],
   "source": []
  }
 ],
 "metadata": {
  "kernelspec": {
   "display_name": "Python 3",
   "language": "python",
   "name": "python3"
  },
  "language_info": {
   "codemirror_mode": {
    "name": "ipython",
    "version": 3
   },
   "file_extension": ".py",
   "mimetype": "text/x-python",
   "name": "python",
   "nbconvert_exporter": "python",
   "pygments_lexer": "ipython3",
   "version": "3.6.7"
  }
 },
 "nbformat": 4,
 "nbformat_minor": 2
}
