{
 "cells": [
  {
   "cell_type": "markdown",
   "metadata": {},
   "source": [
    "# 1. Selection sort\n",
    "\n",
    "#### Flow chart"
   ]
  },
  {
   "cell_type": "code",
   "execution_count": 9,
   "metadata": {},
   "outputs": [
    {
     "data": {
      "text/html": [
       "<img src=\"Selection-sort-flowchart.jpg\", width=500, height=3000>\n"
      ],
      "text/plain": [
       "<IPython.core.display.HTML object>"
      ]
     },
     "metadata": {},
     "output_type": "display_data"
    }
   ],
   "source": [
    "%%html\n",
    "<img src=\"Selection-sort-flowchart.jpg\", width=500, height=3000>"
   ]
  },
  {
   "cell_type": "code",
   "execution_count": 30,
   "metadata": {},
   "outputs": [
    {
     "name": "stdout",
     "output_type": "stream",
     "text": [
      "Sorted array\n",
      "11 12 22 25 64 "
     ]
    }
   ],
   "source": [
    "# Selection sort\n",
    "import sys\n",
    "\n",
    "A = [64, 25, 12, 22, 11]\n",
    "\n",
    "# Traverse through all array elements\n",
    "for i in range(len(A)):\n",
    "    # find the minimum element in remaining\n",
    "    # unsorted array\n",
    "    min_idx = i\n",
    "    for j in range(i+1, len(A)):\n",
    "        if A[min_idx] > A[j]:\n",
    "            min_idx = j\n",
    "            \n",
    "    # Swap the found minimum element with\n",
    "    # the first element\n",
    "    A[i], A[min_idx] = A[min_idx], A[i]\n",
    "    \n",
    "# Driver code to test above\n",
    "print(\"Sorted array\")\n",
    "for i in range(len(A)):\n",
    "    print(\"{}\".format(A[i]), end=\" \")"
   ]
  },
  {
   "cell_type": "code",
   "execution_count": 46,
   "metadata": {},
   "outputs": [],
   "source": [
    "# Funciton\n",
    "def selection_sort(alist):\n",
    "    for i in range(len(alist)):\n",
    "        min_idx = i\n",
    "        for j in range(i+1, len(alist)):\n",
    "            if alist[min_idx] > alist[j]:\n",
    "                min_idx = j\n",
    "        alist[i], alist[min_idx] = alist[min_idx], alist[i]\n",
    "    return alist"
   ]
  },
  {
   "cell_type": "code",
   "execution_count": 47,
   "metadata": {},
   "outputs": [
    {
     "name": "stdout",
     "output_type": "stream",
     "text": [
      "[12, 20, 23, 23, 24, 35, 52]\n"
     ]
    }
   ],
   "source": [
    "arr = [23, 12, 23, 52, 35, 24, 20]\n",
    "selection_sort(arr)\n",
    "print(arr)"
   ]
  },
  {
   "cell_type": "markdown",
   "metadata": {},
   "source": [
    "# 2. Bubble sort"
   ]
  },
  {
   "cell_type": "markdown",
   "metadata": {},
   "source": [
    "![bubble](bubble_sort.gif)"
   ]
  },
  {
   "cell_type": "code",
   "execution_count": 23,
   "metadata": {},
   "outputs": [],
   "source": [
    "def bubble_sort(alist):\n",
    "    def swap(i, j):\n",
    "        alist[i], alist[j] = alist[j], alist[i]\n",
    "        \n",
    "    n = len(alist)\n",
    "    x = -1\n",
    "    swapped = True\n",
    "    while swapped:\n",
    "        swapped = False\n",
    "        x = x + 1\n",
    "        print(x)\n",
    "        for k in range(1, n-x):\n",
    "            if alist[k - 1] > alist[k]:\n",
    "                swap(k-1, k)\n",
    "                swapped = True\n",
    "                \n",
    "    return alist"
   ]
  },
  {
   "cell_type": "code",
   "execution_count": 24,
   "metadata": {},
   "outputs": [
    {
     "name": "stdout",
     "output_type": "stream",
     "text": [
      "0\n",
      "1\n",
      "2\n",
      "3\n"
     ]
    },
    {
     "data": {
      "text/plain": [
       "[0, 1, 2, 9, 23, 23, 31, 54, 89, 100]"
      ]
     },
     "execution_count": 24,
     "metadata": {},
     "output_type": "execute_result"
    }
   ],
   "source": [
    "C = [2,1,9,0,23,31,23,54,89,100]\n",
    "bubble_sort(C)"
   ]
  },
  {
   "cell_type": "markdown",
   "metadata": {},
   "source": [
    "# Insertion sort\n",
    "![insertion sort](insertion_sort.gif)"
   ]
  },
  {
   "cell_type": "code",
   "execution_count": 33,
   "metadata": {},
   "outputs": [],
   "source": [
    "def insertion_sort(alist):\n",
    "    for i in range(len(alist)):\n",
    "        cursor = alist[i]\n",
    "        pos  = i\n",
    "        \n",
    "        while pos > 0 and alist[pos - 1] > cursor:\n",
    "            # swap the number down the list\n",
    "            alist[pos] = alist[pos - 1]\n",
    "            pos = pos - 1\n",
    "                    \n",
    "        # break and do the final swap\n",
    "        alist[pos] = cursor\n",
    "        \n",
    "    return alist"
   ]
  },
  {
   "cell_type": "code",
   "execution_count": 34,
   "metadata": {},
   "outputs": [
    {
     "data": {
      "text/plain": [
       "[0, 1, 2, 23, 32, 32, 54, 89]"
      ]
     },
     "execution_count": 34,
     "metadata": {},
     "output_type": "execute_result"
    }
   ],
   "source": [
    "C = [2,1,32,32,54,23,89,0]\n",
    "insertion_sort(C)"
   ]
  },
  {
   "cell_type": "markdown",
   "metadata": {},
   "source": [
    "# Merge sort\n",
    "![merger sort](merge_sort.gif)"
   ]
  },
  {
   "cell_type": "code",
   "execution_count": 39,
   "metadata": {},
   "outputs": [],
   "source": [
    "def merge_sort(arr):\n",
    "    # the last array split\n",
    "    if (len(arr)) <= 1:\n",
    "        return arr\n",
    "    mid = len(arr)//2\n",
    "    # perform merge_sort recursively on both halves\n",
    "    left, right = merge_sort(arr[:mid]), merge_sort(arr[mid:])\n",
    "    \n",
    "    # merge each side together\n",
    "    return merge(left, right, arr.copy())\n",
    "\n",
    "def merge(left, right, merged):\n",
    "    \n",
    "    left_cursor, right_cursor = 0, 0\n",
    "    while left_cursor < len(left) and right_cursor < len(right):\n",
    "        # sort each one and place into the result\n",
    "        if left[left_cursor] <= right[right_cursor]:\n",
    "            merged[left_cursor + right_cursor] = left[left_cursor]\n",
    "            left_cursor += 1\n",
    "        else:\n",
    "            merged[left_cursor + right_cursor] = right[right_cursor]\n",
    "            right_cursor += 1\n",
    "            \n",
    "    for left_cursor in range(left_cursor, len(left)):\n",
    "        merged[left_cursor + right_cursor] = left[left_cursor]\n",
    "        \n",
    "    for right_cursor in range(right_cursor, len(right)):\n",
    "        merged[left_cursor + right_cursor] = right[right_cursor]\n",
    "        \n",
    "    return merged"
   ]
  },
  {
   "cell_type": "code",
   "execution_count": 40,
   "metadata": {},
   "outputs": [
    {
     "data": {
      "text/plain": [
       "[0, 1, 2, 23, 32, 32, 54, 89]"
      ]
     },
     "execution_count": 40,
     "metadata": {},
     "output_type": "execute_result"
    }
   ],
   "source": [
    "C = [2,1,32,32,54,23,89,0]\n",
    "merge_sort(C)"
   ]
  },
  {
   "cell_type": "markdown",
   "metadata": {},
   "source": [
    "# Quick sort\n",
    "![quick sort](quick_sort.gif)"
   ]
  },
  {
   "cell_type": "code",
   "execution_count": 45,
   "metadata": {},
   "outputs": [],
   "source": [
    "def partition(array, begin, end):\n",
    "    pivot_idx = begin\n",
    "    for i in range(begin+1, end+1):\n",
    "        if array[i] <= array[begin]:\n",
    "            pivot_idx += 1\n",
    "            array[i], array[pivot_idx] = array[pivot_idx], array[i]\n",
    "    array[pivot_idx], array[begin] = array[begin], array[pivot_idx]\n",
    "    return pivot_idx\n",
    "\n",
    "def quick_sort_recursion(array, begin, end):\n",
    "    if begin >= end:\n",
    "        return\n",
    "    pivot_idx = partition(array, begin, end)\n",
    "    quick_sort_recursion(array, begin, pivot_idx-1)\n",
    "    quick_sort_recursion(array, pivot_idx+1, end)\n",
    "\n",
    "def quick_sort(array, begin=0, end=None):\n",
    "    if end is None:\n",
    "        end = len(array) - 1\n",
    "    \n",
    "    return quick_sort_recursion(array, begin, end)"
   ]
  },
  {
   "cell_type": "code",
   "execution_count": 49,
   "metadata": {},
   "outputs": [
    {
     "name": "stdout",
     "output_type": "stream",
     "text": [
      "[0, 1, 2, 23, 32, 32, 54, 89]\n"
     ]
    }
   ],
   "source": [
    "C = [2,1,32,32,54,23,89,0]\n",
    "quick_sort(C)\n",
    "print(C)"
   ]
  },
  {
   "cell_type": "markdown",
   "metadata": {},
   "source": [
    "### Reference\n",
    "\n",
    "[1] https://medium.com/@george.seif94/a-tour-of-the-top-5-sorting-algorithms-with-python-code-43ea9aa02889"
   ]
  },
  {
   "cell_type": "code",
   "execution_count": null,
   "metadata": {},
   "outputs": [],
   "source": []
  }
 ],
 "metadata": {
  "kernelspec": {
   "display_name": "Python 3",
   "language": "python",
   "name": "python3"
  },
  "language_info": {
   "codemirror_mode": {
    "name": "ipython",
    "version": 3
   },
   "file_extension": ".py",
   "mimetype": "text/x-python",
   "name": "python",
   "nbconvert_exporter": "python",
   "pygments_lexer": "ipython3",
   "version": "3.6.7"
  }
 },
 "nbformat": 4,
 "nbformat_minor": 2
}
