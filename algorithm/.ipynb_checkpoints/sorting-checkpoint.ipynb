{
 "cells": [
  {
   "cell_type": "markdown",
   "metadata": {},
   "source": [
    "# 1. Selection sort\n",
    "\n",
    "#### Flow chart"
   ]
  },
  {
   "cell_type": "code",
   "execution_count": 22,
   "metadata": {},
   "outputs": [
    {
     "data": {
      "text/html": [
       "<img src=\"Selection-sort-flowchart.jpg\", width=500, height=3000>\n"
      ],
      "text/plain": [
       "<IPython.core.display.HTML object>"
      ]
     },
     "metadata": {},
     "output_type": "display_data"
    }
   ],
   "source": [
    "%%html\n",
    "<img src=\"Selection-sort-flowchart.jpg\", width=500, height=3000>"
   ]
  },
  {
   "cell_type": "code",
   "execution_count": 30,
   "metadata": {},
   "outputs": [
    {
     "name": "stdout",
     "output_type": "stream",
     "text": [
      "Sorted array\n",
      "11 12 22 25 64 "
     ]
    }
   ],
   "source": [
    "# Selection sort\n",
    "import sys\n",
    "\n",
    "A = [64, 25, 12, 22, 11]\n",
    "\n",
    "# Traverse through all array elements\n",
    "for i in range(len(A)):\n",
    "    # find the minimum element in remaining\n",
    "    # unsorted array\n",
    "    min_idx = i\n",
    "    for j in range(i+1, len(A)):\n",
    "        if A[min_idx] > A[j]:\n",
    "            min_idx = j\n",
    "            \n",
    "    # Swap the found minimum element with\n",
    "    # the first element\n",
    "    A[i], A[min_idx] = A[min_idx], A[i]\n",
    "    \n",
    "# Driver code to test above\n",
    "print(\"Sorted array\")\n",
    "for i in range(len(A)):\n",
    "    print(\"{}\".format(A[i]), end=\" \")"
   ]
  },
  {
   "cell_type": "code",
   "execution_count": 46,
   "metadata": {},
   "outputs": [],
   "source": [
    "# Funciton\n",
    "def selection_sort(alist):\n",
    "    for i in range(len(alist)):\n",
    "        min_idx = i\n",
    "        for j in range(i+1, len(alist)):\n",
    "            if alist[min_idx] > alist[j]:\n",
    "                min_idx = j\n",
    "        alist[i], alist[min_idx] = alist[min_idx], alist[i]\n",
    "    return alist"
   ]
  },
  {
   "cell_type": "code",
   "execution_count": 47,
   "metadata": {},
   "outputs": [
    {
     "name": "stdout",
     "output_type": "stream",
     "text": [
      "[12, 20, 23, 23, 24, 35, 52]\n"
     ]
    }
   ],
   "source": [
    "arr = [23, 12, 23, 52, 35, 24, 20]\n",
    "selection_sort(arr)\n",
    "print(arr)"
   ]
  },
  {
   "cell_type": "code",
   "execution_count": null,
   "metadata": {},
   "outputs": [],
   "source": []
  }
 ],
 "metadata": {
  "kernelspec": {
   "display_name": "Python 3",
   "language": "python",
   "name": "python3"
  },
  "language_info": {
   "codemirror_mode": {
    "name": "ipython",
    "version": 3
   },
   "file_extension": ".py",
   "mimetype": "text/x-python",
   "name": "python",
   "nbconvert_exporter": "python",
   "pygments_lexer": "ipython3",
   "version": "3.6.7"
  }
 },
 "nbformat": 4,
 "nbformat_minor": 2
}
